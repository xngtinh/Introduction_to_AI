{
 "cells": [
  {
   "cell_type": "code",
   "execution_count": 1,
   "metadata": {
    "id": "2TIjd1sBGLUG"
   },
   "outputs": [],
   "source": [
    "from collections import defaultdict\n",
    "from queue import PriorityQueue"
   ]
  },
  {
   "cell_type": "code",
   "execution_count": 2,
   "metadata": {
    "id": "DYLzsCWhGcn8"
   },
   "outputs": [],
   "source": [
    "data = defaultdict(list)\n",
    "data['A'] = ['B', 2, 'C', 1, 'D', 3, 6]\n",
    "data['B'] = ['E', 5, 'F', 4, 3]\n",
    "data['C'] = ['G', 6, 'H', 3, 4]\n",
    "data['D'] = ['I', 2, 'J', 4, 5]\n",
    "data['E'] = [3]\n",
    "data['F'] = ['K', 2, 'L', 1, 'M', 4, 1]\n",
    "data['G'] = [6]\n",
    "data['H'] = ['N', 2, 'O', 4, 2]\n",
    "data['I'] = [5]\n",
    "data['J'] = [4]\n",
    "data['K'] = [2]\n",
    "data['L'] = [0]\n",
    "data['M'] = [4]\n",
    "data['N'] = [0]\n",
    "data['O'] = [4]"
   ]
  },
  {
   "cell_type": "code",
   "execution_count": 3,
   "metadata": {
    "id": "pWYbGhpAH3JV"
   },
   "outputs": [],
   "source": [
    "class Node:\n",
    "  def __init__(self, name, par = None, g=0, h=0):\n",
    "    self.name = name\n",
    "    self.par = par\n",
    "    self.g = g\n",
    "    self.h = h\n",
    "    \n",
    "  def display(self):\n",
    "    print(self.name, self.g, self.h)\n",
    "\n",
    "  def __lt__(self, other):\n",
    "    if other == None:\n",
    "      return False\n",
    "    return self.g + self.h < other.g + other.h\n",
    "\n",
    "  def __eq__(self, other):\n",
    "    if other == None:\n",
    "      return False\n",
    "    return self.name == other.name"
   ]
  },
  {
   "cell_type": "code",
   "execution_count": 4,
   "metadata": {
    "id": "4uh0F7fOI95t"
   },
   "outputs": [],
   "source": [
    "def equal(O, G):\n",
    "  if O.name == G.name:\n",
    "    return True\n",
    "  return False\n",
    "\n",
    "def checkInPriority(tmp, c):\n",
    "  if tmp == None:\n",
    "    return False\n",
    "  return (tmp in c.queue)\n",
    "  \n",
    "def getPath(O):\n",
    "  print(O.name)\n",
    "  if O.par != None:\n",
    "    getPath(O.par)\n",
    "  else:\n",
    "    return"
   ]
  },
  {
   "cell_type": "code",
   "execution_count": 5,
   "metadata": {
    "id": "BHRwP_WYJr3U"
   },
   "outputs": [],
   "source": [
    "def AStar(S = Node(name = 'A'), G = Node(name = 'N')):\n",
    "  Open = PriorityQueue()\n",
    "  Closed = PriorityQueue()\n",
    "  S.h = data[S.name][-1]\n",
    "  Open.put(S)\n",
    "\n",
    "  while True:\n",
    "    if Open.empty() == True:\n",
    "      print('tim kiem that bai')\n",
    "      return\n",
    "    O = Open.get()\n",
    "    Closed.put(O)\n",
    "    print('duyet: ', O.name, O.g, O.h)\n",
    "\n",
    "    if equal(O, G)==True:\n",
    "      print('tim kiem thanh cong')\n",
    "      getPath(O)\n",
    "      print('distance: ', (O.g + O.h))\n",
    "      return\n",
    "    \n",
    "    i=0\n",
    "    while i < len(data[O.name]) - 1:\n",
    "      name = data[O.name][i]\n",
    "      g = O.g + data[O.name][i+1]\n",
    "      h = data[name][-1]\n",
    "      tmp = Node(name = name, g = g, h = h)\n",
    "      tmp.par = O\n",
    "\n",
    "      ok1 = checkInPriority(tmp, Open)\n",
    "      ok2 = checkInPriority(tmp, Closed)\n",
    "      if not ok1 and not ok2:\n",
    "        Open.put(tmp)\n",
    "      i +=2"
   ]
  },
  {
   "cell_type": "code",
   "execution_count": 6,
   "metadata": {
    "colab": {
     "base_uri": "https://localhost:8080/",
     "height": 370
    },
    "id": "vnYekxP6LkXv",
    "outputId": "e8e00ae3-767d-49c9-d0f1-072ad79410a4"
   },
   "outputs": [
    {
     "name": "stdout",
     "output_type": "stream",
     "text": [
      "duyet:  A 0 6\n",
      "duyet:  B 2 3\n",
      "duyet:  C 1 4\n",
      "duyet:  H 4 2\n",
      "duyet:  N 6 0\n",
      "duyet:  F 6 1\n",
      "duyet:  L 7 0\n",
      "duyet:  D 3 5\n",
      "duyet:  E 7 3\n",
      "duyet:  I 5 5\n",
      "duyet:  K 8 2\n",
      "duyet:  J 7 4\n",
      "duyet:  O 8 4\n",
      "duyet:  G 7 6\n",
      "duyet:  M 10 4\n",
      "tim kiem thanh cong\n",
      "M\n",
      "F\n",
      "B\n",
      "A\n",
      "distance:  14\n"
     ]
    }
   ],
   "source": [
    "AStar(Node('A'), Node('M'))"
   ]
  },
  {
   "cell_type": "markdown",
   "metadata": {
    "id": "beiZQ_xTIpxq"
   },
   "source": []
  }
 ],
 "metadata": {
  "colab": {
   "collapsed_sections": [],
   "name": "A_Star.ipynb",
   "provenance": []
  },
  "kernelspec": {
   "display_name": "Python 3",
   "language": "python",
   "name": "python3"
  },
  "language_info": {
   "codemirror_mode": {
    "name": "ipython",
    "version": 3
   },
   "file_extension": ".py",
   "mimetype": "text/x-python",
   "name": "python",
   "nbconvert_exporter": "python",
   "pygments_lexer": "ipython3",
   "version": "3.7.7"
  }
 },
 "nbformat": 4,
 "nbformat_minor": 4
}
