{
 "cells": [
  {
   "cell_type": "code",
   "execution_count": 1,
   "metadata": {
    "collapsed": false,
    "jupyter": {
     "outputs_hidden": false
    },
    "pycharm": {
     "name": "#%%\n"
    }
   },
   "outputs": [],
   "source": [
    "import numpy as np\n",
    "import pandas as pd\n",
    "from digit_classifier import DigitClassifier"
   ]
  },
  {
   "cell_type": "code",
   "execution_count": 2,
   "metadata": {
    "collapsed": false,
    "jupyter": {
     "outputs_hidden": false
    },
    "pycharm": {
     "name": "#%%\n"
    }
   },
   "outputs": [
    {
     "name": "stdout",
     "output_type": "stream",
     "text": [
      "(60000, 784) (60000,)\n"
     ]
    }
   ],
   "source": [
    "# load training set\n",
    "df = pd.read_csv('datasets/mnist_train.csv')\n",
    "train_data = df.values\n",
    "x = train_data[:, 1:]\n",
    "y = train_data[:, 0]\n",
    "print(x.shape, y.shape)"
   ]
  },
  {
   "cell_type": "code",
   "execution_count": 3,
   "metadata": {
    "collapsed": false,
    "jupyter": {
     "outputs_hidden": false
    },
    "pycharm": {
     "name": "#%%\n"
    }
   },
   "outputs": [
    {
     "name": "stdout",
     "output_type": "stream",
     "text": [
      "WARNING:tensorflow:From C:\\Users\\DELL\\anaconda3\\envs\\ds101\\lib\\site-packages\\tensorflow_core\\python\\ops\\resource_variable_ops.py:1630: calling BaseResourceVariable.__init__ (from tensorflow.python.ops.resource_variable_ops) with constraint is deprecated and will be removed in a future version.\n",
      "Instructions for updating:\n",
      "If using Keras pass *_constraint arguments to layers.\n",
      "Model: \"model\"\n",
      "_________________________________________________________________\n",
      "Layer (type)                 Output Shape              Param #   \n",
      "=================================================================\n",
      "input_1 (InputLayer)         [(None, 784)]             0         \n",
      "_________________________________________________________________\n",
      "dense (Dense)                (None, 512)               401920    \n",
      "_________________________________________________________________\n",
      "dense_1 (Dense)              (None, 256)               131328    \n",
      "_________________________________________________________________\n",
      "dense_2 (Dense)              (None, 128)               32896     \n",
      "_________________________________________________________________\n",
      "dense_3 (Dense)              (None, 64)                8256      \n",
      "_________________________________________________________________\n",
      "dense_4 (Dense)              (None, 32)                2080      \n",
      "_________________________________________________________________\n",
      "dense_5 (Dense)              (None, 10)                330       \n",
      "=================================================================\n",
      "Total params: 576,810\n",
      "Trainable params: 576,810\n",
      "Non-trainable params: 0\n",
      "_________________________________________________________________\n",
      "None\n"
     ]
    }
   ],
   "source": [
    "# build your model\n",
    "classifer = DigitClassifier()\n",
    "classifer.build_model()"
   ]
  },
  {
   "cell_type": "code",
   "execution_count": 4,
   "metadata": {
    "collapsed": false,
    "jupyter": {
     "outputs_hidden": false
    },
    "pycharm": {
     "name": "#%%\n"
    }
   },
   "outputs": [
    {
     "name": "stdout",
     "output_type": "stream",
     "text": [
      "Train on 48000 samples, validate on 12000 samples\n",
      "Epoch 1/50\n",
      "48000/48000 [==============================] - 9s 182us/sample - loss: 0.6388 - sparse_categorical_accuracy: 0.8828 - val_loss: 0.2035 - val_sparse_categorical_accuracy: 0.9388\n",
      "Epoch 2/50\n",
      "48000/48000 [==============================] - 9s 180us/sample - loss: 0.1859 - sparse_categorical_accuracy: 0.9451 - val_loss: 0.1598 - val_sparse_categorical_accuracy: 0.9563\n",
      "Epoch 3/50\n",
      "48000/48000 [==============================] - 8s 172us/sample - loss: 0.1402 - sparse_categorical_accuracy: 0.9603 - val_loss: 0.1864 - val_sparse_categorical_accuracy: 0.9488\n",
      "Epoch 4/50\n",
      "48000/48000 [==============================] - 8s 173us/sample - loss: 0.1191 - sparse_categorical_accuracy: 0.9666 - val_loss: 0.1209 - val_sparse_categorical_accuracy: 0.9653\n",
      "Epoch 5/50\n",
      "48000/48000 [==============================] - 8s 174us/sample - loss: 0.1018 - sparse_categorical_accuracy: 0.9716 - val_loss: 0.1115 - val_sparse_categorical_accuracy: 0.9688\n",
      "Epoch 6/50\n",
      "48000/48000 [==============================] - 8s 175us/sample - loss: 0.0894 - sparse_categorical_accuracy: 0.9753 - val_loss: 0.1278 - val_sparse_categorical_accuracy: 0.9684\n",
      "Epoch 7/50\n",
      "48000/48000 [==============================] - 8s 173us/sample - loss: 0.0833 - sparse_categorical_accuracy: 0.9777 - val_loss: 0.1335 - val_sparse_categorical_accuracy: 0.9692\n",
      "Epoch 8/50\n",
      "48000/48000 [==============================] - 8s 175us/sample - loss: 0.0719 - sparse_categorical_accuracy: 0.9804 - val_loss: 0.1782 - val_sparse_categorical_accuracy: 0.9587\n",
      "Epoch 9/50\n",
      "48000/48000 [==============================] - 8s 173us/sample - loss: 0.0672 - sparse_categorical_accuracy: 0.9824 - val_loss: 0.1163 - val_sparse_categorical_accuracy: 0.9738\n",
      "Epoch 10/50\n",
      "48000/48000 [==============================] - 8s 174us/sample - loss: 0.0516 - sparse_categorical_accuracy: 0.9857 - val_loss: 0.1650 - val_sparse_categorical_accuracy: 0.9661\n",
      "Epoch 00010: early stopping\n"
     ]
    }
   ],
   "source": [
    "# train your model\n",
    "classifer.train(x, y)"
   ]
  },
  {
   "cell_type": "code",
   "execution_count": 5,
   "metadata": {
    "collapsed": false,
    "jupyter": {
     "outputs_hidden": false
    },
    "pycharm": {
     "name": "#%%\n"
    }
   },
   "outputs": [],
   "source": [
    "# save your model\n",
    "classifer.save_model()\n"
   ]
  },
  {
   "cell_type": "code",
   "execution_count": null,
   "metadata": {},
   "outputs": [],
   "source": []
  }
 ],
 "metadata": {
  "kernelspec": {
   "display_name": "Python 3",
   "language": "python",
   "name": "python3"
  },
  "language_info": {
   "codemirror_mode": {
    "name": "ipython",
    "version": 3
   },
   "file_extension": ".py",
   "mimetype": "text/x-python",
   "name": "python",
   "nbconvert_exporter": "python",
   "pygments_lexer": "ipython3",
   "version": "3.7.7"
  }
 },
 "nbformat": 4,
 "nbformat_minor": 4
}
